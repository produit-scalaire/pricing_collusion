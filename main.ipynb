{
 "cells": [
  {
   "cell_type": "code",
   "id": "initial_id",
   "metadata": {
    "collapsed": true,
    "ExecuteTime": {
     "end_time": "2025-03-21T10:18:46.110439Z",
     "start_time": "2025-03-21T10:18:46.103154Z"
    }
   },
   "source": [
    "import numpy as np\n",
    "from matplotlib import pyplot as plt\n",
    "from tqdm import tqdm\n",
    "\n",
    "from gym_env_market.BertrandEnv import *\n",
    "from agents import *"
   ],
   "outputs": [],
   "execution_count": 15
  },
  {
   "metadata": {},
   "cell_type": "markdown",
   "source": "# hyperparameters",
   "id": "5fdd6adfa75faf3e"
  },
  {
   "metadata": {
    "ExecuteTime": {
     "end_time": "2025-03-21T10:18:46.119896Z",
     "start_time": "2025-03-21T10:18:46.117147Z"
    }
   },
   "cell_type": "code",
   "source": [
    "# env\n",
    "n_firms = 2\n",
    "m=50\n",
    "mu=0.25\n",
    "a=1\n",
    "a0=0\n",
    "c=1\n",
    "xi=0.1\n",
    "\n",
    "# Agents\n",
    "epsilon_start=1.0\n",
    "epsilon_decay=0.999995\n",
    "epsilon_min=0.0\n",
    "gamma=0.95\n",
    "alpha=0.1\n",
    "\n",
    "n_episodes=100_000"
   ],
   "id": "1703c9f86af7efbb",
   "outputs": [],
   "execution_count": 16
  },
  {
   "metadata": {},
   "cell_type": "markdown",
   "source": "# Initialize env",
   "id": "49b3e41a9b2aec29"
  },
  {
   "metadata": {
    "ExecuteTime": {
     "end_time": "2025-03-21T10:18:46.140163Z",
     "start_time": "2025-03-21T10:18:46.136736Z"
    }
   },
   "cell_type": "code",
   "source": [
    "env = BertrandEnv(\n",
    "    n_firms=n_firms,\n",
    "    m=m,\n",
    "    mu=mu,\n",
    "    a=a,\n",
    "    a0=a0,\n",
    "    c=c,\n",
    "    xi=xi\n",
    ")"
   ],
   "id": "8d1ae60bbfa11190",
   "outputs": [
    {
     "name": "stdout",
     "output_type": "stream",
     "text": [
      "1.3007800394953692 1.3716715000546615\n",
      "[1.30078004 1.3022268  1.30367357 1.30512033 1.3065671  1.30801386\n",
      " 1.30946063 1.31090739 1.31235416 1.31380092 1.31524768 1.31669445\n",
      " 1.31814121 1.31958798 1.32103474 1.32248151 1.32392827 1.32537504\n",
      " 1.3268218  1.32826857 1.32971533 1.33116209 1.33260886 1.33405562\n",
      " 1.33550239 1.33694915 1.33839592 1.33984268 1.34128945 1.34273621\n",
      " 1.34418297 1.34562974 1.3470765  1.34852327 1.34997003 1.3514168\n",
      " 1.35286356 1.35431033 1.35575709 1.35720386 1.35865062 1.36009738\n",
      " 1.36154415 1.36299091 1.36443768 1.36588444 1.36733121 1.36877797\n",
      " 1.37022474 1.3716715 ]\n"
     ]
    }
   ],
   "execution_count": 17
  },
  {
   "metadata": {},
   "cell_type": "markdown",
   "source": "# Initialize agents",
   "id": "4c6a1e0c2da348ce"
  },
  {
   "metadata": {
    "ExecuteTime": {
     "end_time": "2025-03-21T10:18:46.156574Z",
     "start_time": "2025-03-21T10:18:46.153870Z"
    }
   },
   "cell_type": "code",
   "source": "print(env.action_space.n)",
   "id": "eaac8e61450152f5",
   "outputs": [
    {
     "name": "stdout",
     "output_type": "stream",
     "text": [
      "50\n"
     ]
    }
   ],
   "execution_count": 18
  },
  {
   "metadata": {
    "ExecuteTime": {
     "end_time": "2025-03-21T10:18:46.173026Z",
     "start_time": "2025-03-21T10:18:46.170184Z"
    }
   },
   "cell_type": "code",
   "source": [
    "agents = [QLearningAgent(env.action_space.n,\n",
    "                        env.action_space.n,\n",
    "                        gamma=gamma,\n",
    "                        alpha=alpha,\n",
    "                        epsilon_decay=epsilon_decay,\n",
    "                        epsilon_min=epsilon_min,\n",
    "                        epsilon_start= epsilon_start\n",
    "                        ) for _ in range(n_firms)]"
   ],
   "id": "4a9ded9cc398cd84",
   "outputs": [],
   "execution_count": 19
  },
  {
   "metadata": {
    "ExecuteTime": {
     "end_time": "2025-03-21T10:18:46.180468Z",
     "start_time": "2025-03-21T10:18:46.178426Z"
    }
   },
   "cell_type": "code",
   "source": "actions = [agent.choose_action([14, 4]) for agent in agents]",
   "id": "934d606325abe56",
   "outputs": [],
   "execution_count": 20
  },
  {
   "metadata": {
    "ExecuteTime": {
     "end_time": "2025-03-21T10:18:46.186539Z",
     "start_time": "2025-03-21T10:18:46.184859Z"
    }
   },
   "cell_type": "code",
   "source": "print(actions)",
   "id": "9bf5f6ba50e093d1",
   "outputs": [
    {
     "name": "stdout",
     "output_type": "stream",
     "text": [
      "[4, 43]\n"
     ]
    }
   ],
   "execution_count": 21
  },
  {
   "metadata": {},
   "cell_type": "markdown",
   "source": "# training",
   "id": "ee755dd498626cd"
  },
  {
   "metadata": {
    "ExecuteTime": {
     "end_time": "2025-03-21T10:20:03.053048Z",
     "start_time": "2025-03-21T10:18:46.190913Z"
    }
   },
   "cell_type": "code",
   "source": [
    "prices_1 = []\n",
    "prices_2 = []\n",
    "\n",
    "\n",
    "for episode in tqdm(range(n_episodes), desc=\"Training\"):\n",
    "    state = env.reset()\n",
    "    done = False\n",
    "\n",
    "\n",
    "    i = 0\n",
    "    while not done:\n",
    "        # Sélection des actions\n",
    "        actions = [agent.choose_action(state[v]) for v, agent in enumerate(agents) ]\n",
    "        next_state, rewards, _, _ = env.step(actions)\n",
    "\n",
    "        for v, agent in enumerate(agents):\n",
    "            agent.update(state[v], actions[v], rewards[v], next_state[v])\n",
    "\n",
    "        state = next_state\n",
    "\n",
    "        i += 1\n",
    "        if i > 50:\n",
    "            break\n",
    "    # Décroissance de l'exploration après chaque épisode\n",
    "    for i, agent in enumerate(agents):\n",
    "            agent.decay_epsilon()"
   ],
   "id": "aac39759481a24a1",
   "outputs": [
    {
     "name": "stderr",
     "output_type": "stream",
     "text": [
      "Training: 100%|██████████| 100000/100000 [01:16<00:00, 1301.19it/s]\n"
     ]
    }
   ],
   "execution_count": 22
  },
  {
   "metadata": {
    "ExecuteTime": {
     "end_time": "2025-03-21T10:20:03.079808Z",
     "start_time": "2025-03-21T10:20:03.078378Z"
    }
   },
   "cell_type": "code",
   "source": "",
   "id": "1f60aaff8318b120",
   "outputs": [],
   "execution_count": null
  },
  {
   "metadata": {},
   "cell_type": "markdown",
   "source": "# Test",
   "id": "d99406a15d263faf"
  },
  {
   "metadata": {
    "ExecuteTime": {
     "end_time": "2025-03-21T10:20:03.103187Z",
     "start_time": "2025-03-21T10:20:03.101783Z"
    }
   },
   "cell_type": "code",
   "source": "",
   "id": "8fd910121a0f120d",
   "outputs": [],
   "execution_count": null
  },
  {
   "metadata": {
    "ExecuteTime": {
     "end_time": "2025-03-21T10:39:18.774411Z",
     "start_time": "2025-03-21T10:39:18.761986Z"
    }
   },
   "cell_type": "code",
   "source": [
    "for agent in agents:\n",
    "    agent.epsilon = 0.\n",
    "\n",
    "rewards_list = []\n",
    "prices_list = []\n",
    "\n",
    "state = env.reset()\n",
    "done = False\n",
    "\n",
    "i = 0\n",
    "while not done:\n",
    "        # Sélection des actions\n",
    "        actions = [agent.choose_action(state[v]) for v, agent in enumerate(agents) ]\n",
    "\n",
    "        # Interaction avec l'environnement\n",
    "        next_state, rewards, _, _ = env.step(actions)\n",
    "\n",
    "        rewards_list.append(rewards)\n",
    "\n",
    "        state = next_state\n",
    "\n",
    "        prices_list.append(env.prices)\n",
    "\n",
    "        i += 1\n",
    "        if i > 200:\n",
    "            break"
   ],
   "id": "7a4c014026c3d058",
   "outputs": [],
   "execution_count": 43
  },
  {
   "metadata": {
    "ExecuteTime": {
     "end_time": "2025-03-21T10:39:20.624963Z",
     "start_time": "2025-03-21T10:39:20.543459Z"
    }
   },
   "cell_type": "code",
   "source": [
    "plt.plot(rewards_list)\n",
    "plt.show()"
   ],
   "id": "87bbb5b3ba382972",
   "outputs": [
    {
     "data": {
      "text/plain": [
       "<Figure size 640x480 with 1 Axes>"
      ],
      "image/png": "[encoded data removed]"
     },
     "metadata": {},
     "output_type": "display_data"
    }
   ],
   "execution_count": 44
  },
  {
   "metadata": {
    "ExecuteTime": {
     "end_time": "2025-03-21T10:40:45.052079Z",
     "start_time": "2025-03-21T10:40:45.037398Z"
    }
   },
   "cell_type": "code",
   "source": "env.min_price",
   "id": "308351e85887de89",
   "outputs": [
    {
     "data": {
      "text/plain": [
       "1.3007800394953692"
      ]
     },
     "execution_count": 53,
     "metadata": {},
     "output_type": "execute_result"
    }
   ],
   "execution_count": 53
  },
  {
   "metadata": {
    "ExecuteTime": {
     "end_time": "2025-03-21T10:41:23.640836Z",
     "start_time": "2025-03-21T10:41:23.632121Z"
    }
   },
   "cell_type": "code",
   "source": "env.max_price",
   "id": "a87e5e86e502a703",
   "outputs": [
    {
     "data": {
      "text/plain": [
       "1.3716715000546615"
      ]
     },
     "execution_count": 54,
     "metadata": {},
     "output_type": "execute_result"
    }
   ],
   "execution_count": 54
  },
  {
   "metadata": {
    "ExecuteTime": {
     "end_time": "2025-03-21T10:39:48.015156Z",
     "start_time": "2025-03-21T10:39:48.010401Z"
    }
   },
   "cell_type": "code",
   "source": "rewards_list = np.array(rewards_list)",
   "id": "c987f3fdb362ef4f",
   "outputs": [],
   "execution_count": 47
  },
  {
   "metadata": {
    "ExecuteTime": {
     "end_time": "2025-03-21T10:39:55.888433Z",
     "start_time": "2025-03-21T10:39:55.876321Z"
    }
   },
   "cell_type": "code",
   "source": "rewards_list[:,0]",
   "id": "b5cdabb0f7db9996",
   "outputs": [
    {
     "data": {
      "text/plain": [
       "array([0.05672137, 0.05700864, 0.05709651, 0.05700864, 0.05709651,\n",
       "       0.05700864, 0.05709651, 0.05700864, 0.05709651, 0.05700864,\n",
       "       0.05709651, 0.05700864, 0.05709651, 0.05700864, 0.05709651,\n",
       "       0.05700864, 0.05709651, 0.05700864, 0.05709651, 0.05700864,\n",
       "       0.05709651, 0.05700864, 0.05709651, 0.05700864, 0.05709651,\n",
       "       0.05700864, 0.05709651, 0.05700864, 0.05709651, 0.05700864,\n",
       "       0.05709651, 0.05700864, 0.05709651, 0.05700864, 0.05709651,\n",
       "       0.05700864, 0.05709651, 0.05700864, 0.05709651, 0.05700864,\n",
       "       0.05709651, 0.05700864, 0.05709651, 0.05700864, 0.05709651,\n",
       "       0.05700864, 0.05709651, 0.05700864, 0.05709651, 0.05700864,\n",
       "       0.05709651, 0.05700864, 0.05709651, 0.05700864, 0.05709651,\n",
       "       0.05700864, 0.05709651, 0.05700864, 0.05709651, 0.05700864,\n",
       "       0.05709651, 0.05700864, 0.05709651, 0.05700864, 0.05709651,\n",
       "       0.05700864, 0.05709651, 0.05700864, 0.05709651, 0.05700864,\n",
       "       0.05709651, 0.05700864, 0.05709651, 0.05700864, 0.05709651,\n",
       "       0.05700864, 0.05709651, 0.05700864, 0.05709651, 0.05700864,\n",
       "       0.05709651, 0.05700864, 0.05709651, 0.05700864, 0.05709651,\n",
       "       0.05700864, 0.05709651, 0.05700864, 0.05709651, 0.05700864,\n",
       "       0.05709651, 0.05700864, 0.05709651, 0.05700864, 0.05709651,\n",
       "       0.05700864, 0.05709651, 0.05700864, 0.05709651, 0.05700864,\n",
       "       0.05709651, 0.05700864, 0.05709651, 0.05700864, 0.05709651,\n",
       "       0.05700864, 0.05709651, 0.05700864, 0.05709651, 0.05700864,\n",
       "       0.05709651, 0.05700864, 0.05709651, 0.05700864, 0.05709651,\n",
       "       0.05700864, 0.05709651, 0.05700864, 0.05709651, 0.05700864,\n",
       "       0.05709651, 0.05700864, 0.05709651, 0.05700864, 0.05709651,\n",
       "       0.05700864, 0.05709651, 0.05700864, 0.05709651, 0.05700864,\n",
       "       0.05709651, 0.05700864, 0.05709651, 0.05700864, 0.05709651,\n",
       "       0.05700864, 0.05709651, 0.05700864, 0.05709651, 0.05700864,\n",
       "       0.05709651, 0.05700864, 0.05709651, 0.05700864, 0.05709651,\n",
       "       0.05700864, 0.05709651, 0.05700864, 0.05709651, 0.05700864,\n",
       "       0.05709651, 0.05700864, 0.05709651, 0.05700864, 0.05709651,\n",
       "       0.05700864, 0.05709651, 0.05700864, 0.05709651, 0.05700864,\n",
       "       0.05709651, 0.05700864, 0.05709651, 0.05700864, 0.05709651,\n",
       "       0.05700864, 0.05709651, 0.05700864, 0.05709651, 0.05700864,\n",
       "       0.05709651, 0.05700864, 0.05709651, 0.05700864, 0.05709651,\n",
       "       0.05700864, 0.05709651, 0.05700864, 0.05709651, 0.05700864,\n",
       "       0.05709651, 0.05700864, 0.05709651, 0.05700864, 0.05709651,\n",
       "       0.05700864, 0.05709651, 0.05700864, 0.05709651, 0.05700864,\n",
       "       0.05709651, 0.05700864, 0.05709651, 0.05700864, 0.05709651,\n",
       "       0.05700864, 0.05709651, 0.05700864, 0.05709651, 0.05700864,\n",
       "       0.05709651])"
      ]
     },
     "execution_count": 49,
     "metadata": {},
     "output_type": "execute_result"
    }
   ],
   "execution_count": 49
  },
  {
   "metadata": {
    "ExecuteTime": {
     "end_time": "2025-03-21T10:40:20.637033Z",
     "start_time": "2025-03-21T10:40:20.624283Z"
    }
   },
   "cell_type": "code",
   "source": "np.sum(rewards_list[:,1])\n",
   "id": "7f9c943cb1c456e2",
   "outputs": [
    {
     "data": {
      "text/plain": [
       "11.448695022450286"
      ]
     },
     "execution_count": 51,
     "metadata": {},
     "output_type": "execute_result"
    }
   ],
   "execution_count": 51
  },
  {
   "metadata": {
    "ExecuteTime": {
     "end_time": "2025-03-21T10:40:21.805041Z",
     "start_time": "2025-03-21T10:40:21.793324Z"
    }
   },
   "cell_type": "code",
   "source": "np.sum(rewards_list[:,0])",
   "id": "ea230c033e0b3a27",
   "outputs": [
    {
     "data": {
      "text/plain": [
       "11.467235822456749"
      ]
     },
     "execution_count": 52,
     "metadata": {},
     "output_type": "execute_result"
    }
   ],
   "execution_count": 52
  },
  {
   "metadata": {
    "ExecuteTime": {
     "end_time": "2025-03-21T10:20:03.238808Z",
     "start_time": "2025-03-21T10:20:03.187643Z"
    }
   },
   "cell_type": "code",
   "source": [
    "plt.plot(prices_list)\n",
    "plt.show()"
   ],
   "id": "1ebbff83cb33893e",
   "outputs": [
    {
     "data": {
      "text/plain": [
       "<Figure size 640x480 with 1 Axes>"
      ],
      "image/png": "[encoded data removed]"
     },
     "metadata": {},
     "output_type": "display_data"
    }
   ],
   "execution_count": 25
  },
  {
   "metadata": {
    "ExecuteTime": {
     "end_time": "2025-03-21T10:20:03.250595Z",
     "start_time": "2025-03-21T10:20:03.248466Z"
    }
   },
   "cell_type": "code",
   "source": "",
   "id": "863172869aecd3cd",
   "outputs": [],
   "execution_count": null
  }
 ],
 "metadata": {
  "kernelspec": {
   "display_name": "Python 3",
   "language": "python",
   "name": "python3"
  },
  "language_info": {
   "codemirror_mode": {
    "name": "ipython",
    "version": 2
   },
   "file_extension": ".py",
   "mimetype": "text/x-python",
   "name": "python",
   "nbconvert_exporter": "python",
   "pygments_lexer": "ipython2",
   "version": "2.7.6"
  }
 },
 "nbformat": 4,
 "nbformat_minor": 5
}
