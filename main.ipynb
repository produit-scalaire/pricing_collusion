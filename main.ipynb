{
 "cells": [
  {
   "cell_type": "code",
   "id": "initial_id",
   "metadata": {
    "collapsed": true,
    "ExecuteTime": {
     "end_time": "2025-03-20T15:47:15.396744Z",
     "start_time": "2025-03-20T15:47:15.389629Z"
    }
   },
   "source": [
    "from matplotlib import pyplot as plt\n",
    "from tqdm import tqdm\n",
    "\n",
    "from gym_env_market.BertrandEnv import *\n",
    "from agents import *"
   ],
   "outputs": [],
   "execution_count": 45
  },
  {
   "metadata": {},
   "cell_type": "markdown",
   "source": "# hyperparameters",
   "id": "5fdd6adfa75faf3e"
  },
  {
   "metadata": {
    "ExecuteTime": {
     "end_time": "2025-03-20T15:47:15.413048Z",
     "start_time": "2025-03-20T15:47:15.409696Z"
    }
   },
   "cell_type": "code",
   "source": [
    "# env\n",
    "n_firms = 2\n",
    "m=15\n",
    "mu=0.25\n",
    "a=1\n",
    "a0=0\n",
    "c=1\n",
    "xi=0.1\n",
    "\n",
    "# Agents\n",
    "epsilon_start=1.0\n",
    "epsilon_decay=0.999995\n",
    "epsilon_min=0.0\n",
    "gamma=0.95\n",
    "alpha=0.1\n",
    "\n",
    "n_episodes=100000"
   ],
   "id": "1703c9f86af7efbb",
   "outputs": [],
   "execution_count": 46
  },
  {
   "metadata": {},
   "cell_type": "markdown",
   "source": "# Initialize env",
   "id": "49b3e41a9b2aec29"
  },
  {
   "metadata": {
    "ExecuteTime": {
     "end_time": "2025-03-20T15:47:15.443187Z",
     "start_time": "2025-03-20T15:47:15.434021Z"
    }
   },
   "cell_type": "code",
   "source": [
    "env = BertrandEnv(\n",
    "    n_firms=n_firms,\n",
    "    m=m,\n",
    "    mu=mu,\n",
    "    a=a,\n",
    "    a0=a0,\n",
    "    c=c,\n",
    "    xi=xi\n",
    ")"
   ],
   "id": "8d1ae60bbfa11190",
   "outputs": [],
   "execution_count": 47
  },
  {
   "metadata": {},
   "cell_type": "markdown",
   "source": "# Initialize agents",
   "id": "4c6a1e0c2da348ce"
  },
  {
   "metadata": {
    "ExecuteTime": {
     "end_time": "2025-03-20T15:47:15.531515Z",
     "start_time": "2025-03-20T15:47:15.453220Z"
    }
   },
   "cell_type": "code",
   "source": [
    "agent1 = QLearningAgent(env.action_space.n,\n",
    "                        env.action_space.n,\n",
    "                        gamma=gamma,\n",
    "                        alpha=alpha,\n",
    "                        epsilon_decay=epsilon_decay,\n",
    "                        epsilon_min=epsilon_min,\n",
    "                        epsilon_start= epsilon_start\n",
    "                        )\n",
    "agent2 = QLearningAgent(env.action_space.n,\n",
    "                        env.action_space.n,\n",
    "                        gamma=gamma,\n",
    "                        alpha=alpha,\n",
    "                        epsilon_decay=epsilon_decay,\n",
    "                        epsilon_min=epsilon_min,\n",
    "                        epsilon_start= epsilon_start\n",
    "                        )"
   ],
   "id": "4a9ded9cc398cd84",
   "outputs": [],
   "execution_count": 48
  },
  {
   "metadata": {
    "ExecuteTime": {
     "end_time": "2025-03-20T15:47:15.540860Z",
     "start_time": "2025-03-20T15:47:15.538078Z"
    }
   },
   "cell_type": "code",
   "source": "print(agent1.q_table)",
   "id": "e412d5bebf3db05e",
   "outputs": [
    {
     "name": "stdout",
     "output_type": "stream",
     "text": [
      "[[0. 0. 0. 0. 0. 0. 0. 0. 0. 0. 0. 0. 0. 0. 0.]\n",
      " [0. 0. 0. 0. 0. 0. 0. 0. 0. 0. 0. 0. 0. 0. 0.]\n",
      " [0. 0. 0. 0. 0. 0. 0. 0. 0. 0. 0. 0. 0. 0. 0.]\n",
      " [0. 0. 0. 0. 0. 0. 0. 0. 0. 0. 0. 0. 0. 0. 0.]\n",
      " [0. 0. 0. 0. 0. 0. 0. 0. 0. 0. 0. 0. 0. 0. 0.]\n",
      " [0. 0. 0. 0. 0. 0. 0. 0. 0. 0. 0. 0. 0. 0. 0.]\n",
      " [0. 0. 0. 0. 0. 0. 0. 0. 0. 0. 0. 0. 0. 0. 0.]\n",
      " [0. 0. 0. 0. 0. 0. 0. 0. 0. 0. 0. 0. 0. 0. 0.]\n",
      " [0. 0. 0. 0. 0. 0. 0. 0. 0. 0. 0. 0. 0. 0. 0.]\n",
      " [0. 0. 0. 0. 0. 0. 0. 0. 0. 0. 0. 0. 0. 0. 0.]\n",
      " [0. 0. 0. 0. 0. 0. 0. 0. 0. 0. 0. 0. 0. 0. 0.]\n",
      " [0. 0. 0. 0. 0. 0. 0. 0. 0. 0. 0. 0. 0. 0. 0.]\n",
      " [0. 0. 0. 0. 0. 0. 0. 0. 0. 0. 0. 0. 0. 0. 0.]\n",
      " [0. 0. 0. 0. 0. 0. 0. 0. 0. 0. 0. 0. 0. 0. 0.]\n",
      " [0. 0. 0. 0. 0. 0. 0. 0. 0. 0. 0. 0. 0. 0. 0.]]\n"
     ]
    }
   ],
   "execution_count": 49
  },
  {
   "metadata": {},
   "cell_type": "markdown",
   "source": "# training",
   "id": "ee755dd498626cd"
  },
  {
   "metadata": {
    "ExecuteTime": {
     "end_time": "2025-03-20T15:59:57.227019Z",
     "start_time": "2025-03-20T15:47:15.551766Z"
    }
   },
   "cell_type": "code",
   "source": [
    "prices_1 = []\n",
    "prices_2 = []\n",
    "\n",
    "\n",
    "for episode in tqdm(range(n_episodes), desc=\"Training\"):\n",
    "    state = env.reset()\n",
    "    done = False\n",
    "\n",
    "\n",
    "    i = 0\n",
    "    while not done:\n",
    "        # Sélection des actions\n",
    "        action1 = agent1.choose_action(state[0])\n",
    "        action2 = agent2.choose_action(state[1])\n",
    "\n",
    "        # Interaction avec l'environnement\n",
    "        next_state, rewards, done, _ = env.step([action1, action2])\n",
    "\n",
    "        # Mise à jour des Q-tables\n",
    "        agent1.update(state[0], action1, rewards[0], next_state[0])\n",
    "        agent2.update(state[1], action2, rewards[1], next_state[1])\n",
    "\n",
    "        state = next_state\n",
    "\n",
    "        i += 1\n",
    "        if i > 500:\n",
    "            break\n",
    "\n",
    "    # Décroissance de l'exploration après chaque épisode\n",
    "    agent1.decay_epsilon()\n",
    "    agent2.decay_epsilon()"
   ],
   "id": "aac39759481a24a1",
   "outputs": [
    {
     "name": "stderr",
     "output_type": "stream",
     "text": [
      "Training: 100%|██████████| 100000/100000 [12:41<00:00, 131.29it/s]\n"
     ]
    }
   ],
   "execution_count": 50
  },
  {
   "metadata": {
    "ExecuteTime": {
     "end_time": "2025-03-20T15:59:57.272424Z",
     "start_time": "2025-03-20T15:59:57.269803Z"
    }
   },
   "cell_type": "code",
   "source": "",
   "id": "1f60aaff8318b120",
   "outputs": [],
   "execution_count": null
  },
  {
   "metadata": {},
   "cell_type": "markdown",
   "source": "# Test",
   "id": "d99406a15d263faf"
  },
  {
   "metadata": {
    "ExecuteTime": {
     "end_time": "2025-03-20T16:00:57.196490Z",
     "start_time": "2025-03-20T16:00:57.191257Z"
    }
   },
   "cell_type": "code",
   "source": [
    "agent1.epsilon = 0.\n",
    "agent2.epsilon = 0."
   ],
   "id": "8fd910121a0f120d",
   "outputs": [],
   "execution_count": 66
  },
  {
   "metadata": {
    "ExecuteTime": {
     "end_time": "2025-03-20T16:00:57.398929Z",
     "start_time": "2025-03-20T16:00:57.393223Z"
    }
   },
   "cell_type": "code",
   "source": [
    "rewards_list = []\n",
    "prices_list = []\n",
    "\n",
    "state = env.reset()\n",
    "done = False\n",
    "\n",
    "i = 0\n",
    "while not done:\n",
    "        # Sélection des actions\n",
    "        action1 = agent1.choose_action(state[0])\n",
    "        action2 = agent2.choose_action(state[1])\n",
    "\n",
    "        # Interaction avec l'environnement\n",
    "        next_state, rewards, done, _ = env.step([action1, action2])\n",
    "\n",
    "        rewards_list.append(rewards)\n",
    "\n",
    "        # Mise à jour des Q-tables\n",
    "        agent1.update(state[0], action1, rewards[0], next_state[0])\n",
    "        agent2.update(state[1], action2, rewards[1], next_state[1])\n",
    "\n",
    "        state = next_state\n",
    "\n",
    "        prices_list.append(env.prices)\n",
    "\n",
    "        i += 1\n",
    "        if i > 20:\n",
    "            break"
   ],
   "id": "7a4c014026c3d058",
   "outputs": [],
   "execution_count": 67
  },
  {
   "metadata": {
    "ExecuteTime": {
     "end_time": "2025-03-20T16:00:58.004159Z",
     "start_time": "2025-03-20T16:00:57.943928Z"
    }
   },
   "cell_type": "code",
   "source": [
    "plt.plot(rewards_list)\n",
    "plt.show()"
   ],
   "id": "87bbb5b3ba382972",
   "outputs": [
    {
     "data": {
      "text/plain": [
       "<Figure size 640x480 with 1 Axes>"
      ],
      "image/png": "[encoded data removed]"
     },
     "metadata": {},
     "output_type": "display_data"
    }
   ],
   "execution_count": 68
  },
  {
   "metadata": {
    "ExecuteTime": {
     "end_time": "2025-03-20T16:00:58.772093Z",
     "start_time": "2025-03-20T16:00:58.719181Z"
    }
   },
   "cell_type": "code",
   "source": [
    "plt.plot(prices_list)\n",
    "plt.show()"
   ],
   "id": "1ebbff83cb33893e",
   "outputs": [
    {
     "data": {
      "text/plain": [
       "<Figure size 640x480 with 1 Axes>"
      ],
      "image/png": "[encoded data removed]"
     },
     "metadata": {},
     "output_type": "display_data"
    }
   ],
   "execution_count": 69
  },
  {
   "metadata": {},
   "cell_type": "code",
   "outputs": [],
   "execution_count": null,
   "source": "",
   "id": "863172869aecd3cd"
  }
 ],
 "metadata": {
  "kernelspec": {
   "display_name": "Python 3",
   "language": "python",
   "name": "python3"
  },
  "language_info": {
   "codemirror_mode": {
    "name": "ipython",
    "version": 2
   },
   "file_extension": ".py",
   "mimetype": "text/x-python",
   "name": "python",
   "nbconvert_exporter": "python",
   "pygments_lexer": "ipython2",
   "version": "2.7.6"
  }
 },
 "nbformat": 4,
 "nbformat_minor": 5
}
